{
 "cells": [
  {
   "cell_type": "markdown",
   "id": "53520aff-b26a-48e7-92c5-83a69be4969d",
   "metadata": {},
   "source": [
    "What is Python, and why is it popular?\n",
    "\n",
    "Widely used in the industry\n",
    "Used by all fortune 500 companies\n",
    "Widely used in data industry – Python is majorly used\n",
    "Python has lot of libraries (All optimized and well written codes are already kept in library) in python\n",
    "Ease of learning\n",
    "Versatile (web development )\n",
    "A lot of libraries are available in Python"
   ]
  },
  {
   "cell_type": "markdown",
   "id": "4e1330ad-0dd0-4553-966d-013bacea4f14",
   "metadata": {},
   "source": [
    "What is an interpreter in Python\n",
    "\n",
    "An interpreter in python is a program that reads and executes python code line by line/sequentially."
   ]
  },
  {
   "cell_type": "markdown",
   "id": "66aa2c56-cabb-4224-8b3c-8d8b97b219b8",
   "metadata": {},
   "source": [
    "What are pre-defined keywords in Python?\n",
    "\n",
    "Keywords in python are predefined words that holds a special meaning and have a specific purpose in python. \n",
    "variables are identifiers – these are the place holders where we keep variety of data – which we can use to write logic.\n",
    "\n",
    "Examples:\n",
    "Numbers are integers or float\n",
    "Characters are string\n",
    "True or false is Boolean\n",
    "None"
   ]
  },
  {
   "cell_type": "code",
   "execution_count": 1,
   "id": "3627c2ba-f750-4599-9cd3-1eacce130a75",
   "metadata": {},
   "outputs": [
    {
     "ename": "SyntaxError",
     "evalue": "invalid character '‘' (U+2018) (1085942892.py, line 1)",
     "output_type": "error",
     "traceback": [
      "\u001b[1;36m  Cell \u001b[1;32mIn[1], line 1\u001b[1;36m\u001b[0m\n\u001b[1;33m    Help(‘Keywords’)\u001b[0m\n\u001b[1;37m         ^\u001b[0m\n\u001b[1;31mSyntaxError\u001b[0m\u001b[1;31m:\u001b[0m invalid character '‘' (U+2018)\n"
     ]
    }
   ],
   "source": [
    "Help(‘Keywords’)"
   ]
  },
  {
   "cell_type": "code",
   "execution_count": 2,
   "id": "86a5420a-922b-424a-8c93-f1eb00e44d14",
   "metadata": {},
   "outputs": [
    {
     "name": "stdout",
     "output_type": "stream",
     "text": [
      "Python Keywords:\n",
      "False\n",
      "None\n",
      "True\n",
      "and\n",
      "as\n",
      "assert\n",
      "async\n",
      "await\n",
      "break\n",
      "class\n",
      "continue\n",
      "def\n",
      "del\n",
      "elif\n",
      "else\n",
      "except\n",
      "finally\n",
      "for\n",
      "from\n",
      "global\n",
      "if\n",
      "import\n",
      "in\n",
      "is\n",
      "lambda\n",
      "nonlocal\n",
      "not\n",
      "or\n",
      "pass\n",
      "raise\n",
      "return\n",
      "try\n",
      "while\n",
      "with\n",
      "yield\n"
     ]
    }
   ],
   "source": [
    "import keyword\n",
    "python_keywords = keyword.kwlist\n",
    "\n",
    "print(\"Python Keywords:\")\n",
    "for kw in python_keywords:\n",
    "    print(kw)"
   ]
  },
  {
   "cell_type": "markdown",
   "id": "5a5f8fdc-a63e-4280-9c5f-8cc97ca23ac3",
   "metadata": {},
   "source": [
    "Can keywords be used as variable names\n",
    "\n",
    "No, keywords in Python cannot be used as variable names, function names, or any other identifiers. Keywords are reserved by the language and have a specific meaning in Python's syntax. If you try to use a keyword as a variable name, you will get a SyntaxError.\n",
    "\n",
    "# Attempting to use a Python keyword as a variable name\n",
    "if = 10  # SyntaxError: cannot assign to keyword\n",
    "\n",
    "Keywords have a specific purpose in Python's syntax. For example\n",
    "\n",
    "if, else, elif are used for conditional branching.\n",
    "def is used to define functions.\n",
    "class is used to define classes\n"
   ]
  },
  {
   "cell_type": "markdown",
   "id": "6e9c8215-a8a4-40e9-b7be-f5aa13495d6c",
   "metadata": {},
   "source": [
    "Why are lists mutable, but tuples are immutable. \n",
    "\n",
    "\n",
    "Mutability refers to the ability to modify the contents of an object after it is created. An object that is mutable can have its values changed, added, or removed. Immutability, on the other hand, means that once an object is created, it cannot be modified.\n",
    "\n",
    "In Python, lists are mutable, and tuples are immutable. This difference arises due to the way they are implemented in Python and their intended use cases.\n",
    "\n",
    "A list in Python is mutable, meaning you can change, add, or remove elements from a list after it has been created.\n",
    "\n",
    "\n",
    "A tuple in Python is immutable, meaning once it is created, its elements cannot be changed, added, or removed. This makes tuples more efficient for use cases where the data should not change after creation."
   ]
  },
  {
   "cell_type": "code",
   "execution_count": 5,
   "id": "bca5d0aa-4084-4ef6-b68c-3727352e986c",
   "metadata": {},
   "outputs": [
    {
     "name": "stdout",
     "output_type": "stream",
     "text": [
      "[1, 2, 99, 5, 6]\n"
     ]
    }
   ],
   "source": [
    "# Creating a list\n",
    "my_list = [1, 2, 3, 4, 5]\n",
    "\n",
    "# Modifying an element in the list\n",
    "my_list[2] = 99  # Changing the element at index 2\n",
    "\n",
    "# Adding an element to the list\n",
    "my_list.append(6)\n",
    "\n",
    "# Removing an element from the list\n",
    "my_list.remove(4)\n",
    "\n",
    "# Output the modified list\n",
    "print(my_list)"
   ]
  },
  {
   "cell_type": "code",
   "execution_count": 6,
   "id": "6cec2ed6-05b2-4c74-9481-94c6e25b95a4",
   "metadata": {},
   "outputs": [
    {
     "name": "stdout",
     "output_type": "stream",
     "text": [
      "Error: 'tuple' object does not support item assignment\n",
      "(1, 2, 3, 4, 5)\n"
     ]
    }
   ],
   "source": [
    "# Creating a tuple\n",
    "my_tuple = (1, 2, 3, 4, 5)\n",
    "\n",
    "# Attempting to modify an element in the tuple (this will raise an error)\n",
    "try:\n",
    "    my_tuple[2] = 99  # Trying to change the value at index 2\n",
    "except TypeError as e:\n",
    "    print(f\"Error: {e}\")\n",
    "\n",
    "# Output the tuple\n",
    "print(my_tuple)"
   ]
  },
  {
   "cell_type": "markdown",
   "id": "02bf2f56-1f53-4ba8-8911-ec63167b88c2",
   "metadata": {},
   "source": [
    "In Python, the == and is operators are used for comparisons, but they serve different purposes and behave differently.\n",
    "\n",
    "1. == (Equality Operator)\n",
    "The == operator checks value equality, meaning it compares the values of two objects to see if they are the same.\n",
    "\n",
    "== compares the content or the value of the objects.\n",
    "It returns True if the values of the two objects are equal, and False otherwise.\n",
    "2. is (Identity Operator)\n",
    "The is operator checks object identity, meaning it checks whether two variables point to the same object in memory.\n",
    "\n",
    "is compares the identity of the objects (i.e., whether they are the same object in memory).\n",
    "It returns True if both variables reference the same object in memory (i.e., they are the same object), and False if they reference different objects."
   ]
  },
  {
   "cell_type": "markdown",
   "id": "25552a16-ecac-402c-91b8-f2e8cd9952c1",
   "metadata": {},
   "source": [
    "What are logical operators in Python\n",
    "\n",
    "In Python, logical operators are used to perform logical operations on boolean values (True or False). These operators are typically used in conditional statements (like if, while, etc.) to combine multiple conditions.\n",
    "\n",
    "Python Logical Operators:\n",
    "and\n",
    "or\n",
    "not\n",
    "\n",
    "1. and (Logical AND)\n",
    "The and operator returns True if both operands are True. If either of the operands is False, it returns False.\n",
    "The or operator returns True if at least one of the operands is True. It only returns False if both operands are False.\n",
    "\n",
    "The not operator is a unary operator, meaning it operates on a single operand. It inverts the boolean value — if the operand is True, it returns False, and if the operand is False, it returns True.\n",
    "\n",
    "A\tB\tA and B\tA or B\tnot A\tnot B\n",
    "True\tTrue\tTrue\tTrue\tFalse\tFalse\n",
    "True\tFalse\tFalse\tTrue\tFalse\tTrue\n",
    "False\tTrue\tFalse\tTrue\tTrue\tFalse\n",
    "False\tFalse\tFalse\tFalse\tTrue\tTrue\n"
   ]
  },
  {
   "cell_type": "code",
   "execution_count": 7,
   "id": "75118be3-8d04-44a8-a6ca-becebae5553a",
   "metadata": {},
   "outputs": [
    {
     "name": "stdout",
     "output_type": "stream",
     "text": [
      "Both conditions are True\n",
      "At least one condition is True\n",
      "Condition is False\n"
     ]
    }
   ],
   "source": [
    "a = 10\n",
    "b = 20\n",
    "c = 30\n",
    "\n",
    "# Using 'and'\n",
    "if a < b and b < c:\n",
    "    print(\"Both conditions are True\")\n",
    "\n",
    "# Using 'or'\n",
    "if a > b or b < c:\n",
    "    print(\"At least one condition is True\")\n",
    "\n",
    "# Using 'not'\n",
    "if not a > b:\n",
    "    print(\"Condition is False\")"
   ]
  },
  {
   "cell_type": "markdown",
   "id": "f0787fc7-e7db-4589-b14c-67e5647f8a0a",
   "metadata": {},
   "source": [
    " What is type casting in Python\n",
    "\n",
    " Type casting in Python refers to the process of converting one data type into another. Python provides built-in functions for converting between different types of data. Type casting is useful when you need to convert a variable of one type (e.g., a string) into another type (e.g., an integer), to perform operations that require that specific type.\n",
    "\n",
    " Implicit  - This usually happens when converting a smaller data type to a larger one (e.g., from int to float).\n",
    " Explicit - Python provides functions like int(), float(), str(), etc., to perform explicit conversions."
   ]
  },
  {
   "cell_type": "markdown",
   "id": "e4d3f6b2-d0ad-456a-b04c-1c41d7f52258",
   "metadata": {},
   "source": [
    "What is the difference between implicit and explicit type casting\n",
    "\n",
    "Implicit - Python automatically converts a lower data type to a higher data type if it is safe to do so.\n",
    "\n",
    "In explicit type casting, the user manually converts one data type to another using type conversion functions.\n",
    "\n",
    "Python provides several built-in functions to perform explicit type casting:\n",
    "\n",
    "int(): Converts a value to an integer (removes any decimal part).\n",
    "float(): Converts a value to a float (adds a decimal point if necessary).\n",
    "str(): Converts a value to a string.\n",
    "\n",
    "\n",
    "Key Functions for Type Casting:\n",
    "int(): Converts a value to an integer.\n",
    "\n",
    "Example: int(\"123\") → 123\n",
    "Converts a string, float, or other types to an integer.\n",
    "float(): Converts a value to a float.\n",
    "\n",
    "Example: float(\"123.45\") → 123.45\n",
    "Converts a string or integer to a float.\n",
    "str(): Converts a value to a string.\n",
    "\n",
    "Example: str(123) → \"123\"\n",
    "Converts an integer, float, or other types to a string.\n",
    "bool(): Converts a value to a boolean (True or False).\n",
    "\n",
    "Example: bool(1) → True\n",
    "bool(0) → False, and non-zero values convert to True.\n",
    "\n"
   ]
  },
  {
   "cell_type": "code",
   "execution_count": 8,
   "id": "e7b5bc5e-30f6-43b0-b43d-de8f009c1c69",
   "metadata": {},
   "outputs": [
    {
     "name": "stdout",
     "output_type": "stream",
     "text": [
      "10.0\n"
     ]
    }
   ],
   "source": [
    "integer_value = 10\n",
    "float_value = float(10)  # Convert integer to float\n",
    "print(float_value)  # Output: 10.0 (as a float)"
   ]
  },
  {
   "cell_type": "markdown",
   "id": "a0810e3f-0196-406e-93f6-956bd69f98fe",
   "metadata": {},
   "source": [
    "What is the purpose of conditional statements in Python\n",
    "\n",
    "\n",
    "Conditional statements in Python are used to execute certain blocks of code based on whether a condition is True or False. They allow for decision-making within programs, enabling the execution of different actions depending on various conditions. This is crucial for controlling the flow of the program and making it responsive to different situations.\n",
    "\n",
    "\n",
    "Control Flow: They help control the flow of execution in a program, allowing certain actions to be performed only if specific conditions are met.\n",
    "Decision Making: Conditional statements enable the program to make decisions based on dynamic conditions (e.g., input values, program state, or external factors).\n",
    "Flexibility: They provide flexibility to the program, making it adaptable to different inputs and conditions.\n",
    "Error Handling: Conditional statements are often used to validate user input, check for errors, and ensure that the program behaves as expected.\n",
    "Different Outputs for Different Inputs: They allow the program to produce different outputs based on different conditions or user choices.\n",
    "\n",
    "if Statement: Executes a block of code only if the condition is True.\n",
    "if-else Statement: Executes one block of code if the condition is True and another block if it is False.\n",
    "if-elif-else Statement: Allows you to check multiple conditions and execute a block of code corresponding to the first True condition. The else block handles the case when none of the conditions are True."
   ]
  },
  {
   "cell_type": "code",
   "execution_count": 9,
   "id": "2bdb6a10-a127-4341-89c5-666024792a56",
   "metadata": {},
   "outputs": [
    {
     "name": "stdout",
     "output_type": "stream",
     "text": [
      "x is greater than 5\n"
     ]
    }
   ],
   "source": [
    "x = 10\n",
    "if x > 5:\n",
    "    print(\"x is greater than 5\")  # This will be printed"
   ]
  },
  {
   "cell_type": "markdown",
   "id": "cd571e00-e00c-4db2-9b93-4b3ac3bf463e",
   "metadata": {},
   "source": [
    "How does the elif statement work\n",
    "\n",
    "\n",
    "Structure: An if statement is followed by one or more elif statements and optionally an else statement.\n",
    "\n",
    "Condition Evaluation: When an if statement is executed, Python checks its condition first. If it's True, the corresponding block of code executes, and the rest of the conditions are not checked.\n",
    "\n",
    "Multiple Conditions: If the if condition is False, Python then checks the next elif condition. If that is True, its block of code executes.\n",
    "\n",
    "Fallback Condition: If none of the if or elif conditions are True, the code under the else statement (if provided) will execute."
   ]
  },
  {
   "cell_type": "code",
   "execution_count": 10,
   "id": "37691674-4ca0-4937-9849-c6268fea82fd",
   "metadata": {},
   "outputs": [
    {
     "name": "stdout",
     "output_type": "stream",
     "text": [
      "It's warm outside.\n"
     ]
    }
   ],
   "source": [
    "temperature = 30\n",
    "\n",
    "if temperature > 30:\n",
    "    print(\"It's hot outside.\")\n",
    "elif temperature > 20:\n",
    "    print(\"It's warm outside.\")\n",
    "else:\n",
    "    print(\"It's cold outside.\")"
   ]
  },
  {
   "cell_type": "markdown",
   "id": "059f5948-7cc9-4e56-a247-715a09ed3ce4",
   "metadata": {},
   "source": [
    "What is the difference between for and while loops\n",
    "\n",
    "for Loop is used for iterating over a sequence (like a list, tuple, set, string, or dictionary) or other iterable objects.\n",
    "\n",
    "A for loop is used when you know exactly how many times you want the loop to run. It iterates over a sequence (like a list, range, or string) or a specific number of times.\n",
    "\n",
    "and while Loop is Used to execute a block of code as long as a specified condition is True.\n",
    "\n",
    "A while loop is used when you do not know in advance how many times you need to loop, but the loop should continue as long as a condition is true."
   ]
  },
  {
   "cell_type": "code",
   "execution_count": 11,
   "id": "7c866b95-d1e4-4810-9aed-0214d7f65520",
   "metadata": {},
   "outputs": [
    {
     "name": "stdout",
     "output_type": "stream",
     "text": [
      "0\n",
      "1\n",
      "2\n",
      "3\n",
      "4\n"
     ]
    }
   ],
   "source": [
    "for i in range(5):  # Loops from 0 to 4 (5 times)\n",
    "    print(i)"
   ]
  },
  {
   "cell_type": "code",
   "execution_count": 12,
   "id": "26680120-70cd-4665-b5ab-18ad7ed36eb4",
   "metadata": {},
   "outputs": [
    {
     "name": "stdout",
     "output_type": "stream",
     "text": [
      "0\n",
      "1\n",
      "2\n",
      "3\n",
      "4\n"
     ]
    }
   ],
   "source": [
    "i = 0\n",
    "while i < 5:  # Loops while i is less than 5\n",
    "    print(i)\n",
    "    i += 1"
   ]
  },
  {
   "cell_type": "markdown",
   "id": "eb1043cf-e0e7-4034-b0bd-433621c401af",
   "metadata": {},
   "source": [
    "Describe a scenario where a while loop is more suitable than a for loop\n",
    "\n",
    "A while loop is more suitable than a for loop when the number of iterations is unknown in advance and is based on a condition that may change dynamically during the execution of the loop. One common scenario is waiting for user input that meets certain criteria."
   ]
  },
  {
   "cell_type": "code",
   "execution_count": 13,
   "id": "1cbcf686-f400-401b-bb68-ed075f72d2aa",
   "metadata": {},
   "outputs": [
    {
     "name": "stdin",
     "output_type": "stream",
     "text": [
      "Enter a valid password (at least 8 characters and 1 number):  Azizunni2\n"
     ]
    },
    {
     "name": "stdout",
     "output_type": "stream",
     "text": [
      "Password is valid!\n"
     ]
    }
   ],
   "source": [
    "# Password validation loop\n",
    "password = \"\"\n",
    "while len(password) < 8 or not any(char.isdigit() for char in password):\n",
    "    password = input(\"Enter a valid password (at least 8 characters and 1 number): \")\n",
    "    \n",
    "print(\"Password is valid!\")"
   ]
  },
  {
   "cell_type": "code",
   "execution_count": 14,
   "id": "66b87a13-6c7e-4839-95b5-318be6f49e57",
   "metadata": {},
   "outputs": [
    {
     "name": "stdout",
     "output_type": "stream",
     "text": [
      "Hello, World!\n"
     ]
    }
   ],
   "source": [
    "print(\"Hello, World!\")"
   ]
  },
  {
   "cell_type": "markdown",
   "id": "04ed8727-d3e1-45ff-a2d8-9d7076942f02",
   "metadata": {},
   "source": [
    "Write a Python program that displays your name and age"
   ]
  },
  {
   "cell_type": "code",
   "execution_count": 23,
   "id": "63306fa6-39b7-4422-b4b3-e9c7aefc5c3f",
   "metadata": {},
   "outputs": [
    {
     "name": "stdout",
     "output_type": "stream",
     "text": [
      "Name: Aziz\n",
      "Age: 30\n"
     ]
    }
   ],
   "source": [
    "# Assigning name and age to variables\n",
    "name = \"Aziz\"  # Replace with your name\n",
    "age = 30           # Replace with your age\n",
    "\n",
    "# Displaying the name and age\n",
    "print(\"Name:\", name)\n",
    "print(\"Age:\", age)"
   ]
  },
  {
   "cell_type": "code",
   "execution_count": 24,
   "id": "fa2e1e72-943a-4fd7-b215-22a74c787a33",
   "metadata": {},
   "outputs": [
    {
     "name": "stdout",
     "output_type": "stream",
     "text": [
      "Python Keywords:\n",
      "['False', 'None', 'True', 'and', 'as', 'assert', 'async', 'await', 'break', 'class', 'continue', 'def', 'del', 'elif', 'else', 'except', 'finally', 'for', 'from', 'global', 'if', 'import', 'in', 'is', 'lambda', 'nonlocal', 'not', 'or', 'pass', 'raise', 'return', 'try', 'while', 'with', 'yield']\n"
     ]
    }
   ],
   "source": [
    "import keyword\n",
    "\n",
    "# Print all the predefined keywords in Python\n",
    "print(\"Python Keywords:\")\n",
    "print(keyword.kwlist)"
   ]
  },
  {
   "cell_type": "markdown",
   "id": "a88a9179-3f9a-47fa-8539-003f4ca059cb",
   "metadata": {},
   "source": [
    "Write a program that checks if a given word is a Python keyword\n",
    "\n"
   ]
  },
  {
   "cell_type": "code",
   "execution_count": 25,
   "id": "791f5c31-0b85-439b-9db3-1e3b2851bcda",
   "metadata": {},
   "outputs": [
    {
     "name": "stdin",
     "output_type": "stream",
     "text": [
      "Enter a word to check if it's a Python keyword:  'hello'\n"
     ]
    },
    {
     "name": "stdout",
     "output_type": "stream",
     "text": [
      "''hello'' is not a Python keyword.\n"
     ]
    }
   ],
   "source": [
    "import keyword\n",
    "\n",
    "# Get the input word from the user\n",
    "word = input(\"Enter a word to check if it's a Python keyword: \")\n",
    "\n",
    "# Check if the word is a Python keyword\n",
    "if keyword.iskeyword(word):\n",
    "    print(f\"'{word}' is a Python keyword.\")\n",
    "else:\n",
    "    print(f\"'{word}' is not a Python keyword.\")"
   ]
  },
  {
   "cell_type": "markdown",
   "id": "1afbba81-2ba8-49e0-b730-b50e2bfa01f2",
   "metadata": {},
   "source": [
    "Create a list and tuple in Python, and demonstrate how attempting to change an element works differently\n",
    "for each\n",
    "\n",
    "In Python, lists are mutable, meaning their elements can be modified, whereas tuples are immutable, meaning their elements cannot be changed once defined.\n",
    "\n",
    "Here’s how you can create a list and a tuple, and demonstrate the difference between attempting to change an element in each"
   ]
  },
  {
   "cell_type": "code",
   "execution_count": 26,
   "id": "ea1039c3-ffd4-4aa4-ae5a-0df2e18d04d7",
   "metadata": {},
   "outputs": [
    {
     "name": "stdout",
     "output_type": "stream",
     "text": [
      "Original list: [1, 7, 9, 71, 33, 51, 79, 5]\n",
      "List after modification: [1, 7, 100, 71, 33, 51, 79, 5]\n",
      "\n",
      "Original tuple: (1, 7, 9, 71, 33, 51, 79, 5)\n",
      "Error when trying to modify tuple: 'tuple' object does not support item assignment\n"
     ]
    }
   ],
   "source": [
    "# Creating a list\n",
    "my_list = [1, 7, 9, 71, 33, 51, 79, 5]\n",
    "\n",
    "# Creating a tuple\n",
    "my_tuple = (1, 7, 9, 71, 33, 51, 79, 5)\n",
    "\n",
    "# Demonstrating change for the list (mutable)\n",
    "print(\"Original list:\", my_list)\n",
    "my_list[2] = 100  # Changing the element at index 2 (from 9 to 100)\n",
    "print(\"List after modification:\", my_list)\n",
    "\n",
    "# Demonstrating change for the tuple (immutable)\n",
    "print(\"\\nOriginal tuple:\", my_tuple)\n",
    "try:\n",
    "    my_tuple[2] = 100  # Trying to change the element at index 2 (this will raise an error)\n",
    "except TypeError as e:\n",
    "    print(\"Error when trying to modify tuple:\", e)"
   ]
  },
  {
   "cell_type": "markdown",
   "id": "588036b7-2ec7-469e-a9ef-c80220b35534",
   "metadata": {},
   "source": [
    "Lists are mutable, so when you change an element using an index (like my_list[2] = 100), the list is successfully modified.\n",
    "Tuples are immutable, so attempting to change an element in the tuple (like my_tuple[2] = 100) will result in a TypeError because you cannot modify a tuple after its creation.\n"
   ]
  },
  {
   "cell_type": "markdown",
   "id": "5bb271f2-aa48-49aa-ad82-e08206fb9594",
   "metadata": {},
   "source": [
    "Write a function to demonstrate the behavior of mutable and immutable arguments\n",
    "\n",
    "To demonstrate the behavior of mutable and immutable arguments in Python, we can create a function that modifies both types of arguments (e.g., a list for mutable and an integer for immutable). The key difference here is that changes made to a mutable argument inside the function will persist outside the function, while changes to an immutable argument will not."
   ]
  },
  {
   "cell_type": "code",
   "execution_count": 27,
   "id": "0755fc5b-4729-462f-aa55-563747aa66c3",
   "metadata": {},
   "outputs": [
    {
     "name": "stdout",
     "output_type": "stream",
     "text": [
      "Before function call:\n",
      "Mutable argument (list): [1, 2, 3]\n",
      "Immutable argument (integer): 50\n",
      "Inside function:\n",
      "Mutable argument (list): [1, 2, 3, 100]\n",
      "Immutable argument (integer): 60\n",
      "\n",
      "After function call:\n",
      "Mutable argument (list): [1, 2, 3, 100]\n",
      "Immutable argument (integer): 50\n"
     ]
    }
   ],
   "source": [
    "# Function to demonstrate mutable and immutable arguments\n",
    "def modify_arguments(mutable_arg, immutable_arg):\n",
    "    # Modifying the mutable argument (list)\n",
    "    mutable_arg.append(100)  # Adding an element to the list\n",
    "    \n",
    "    # Modifying the immutable argument (integer)\n",
    "    immutable_arg += 10  # Incrementing the integer\n",
    "\n",
    "    print(\"Inside function:\")\n",
    "    print(\"Mutable argument (list):\", mutable_arg)\n",
    "    print(\"Immutable argument (integer):\", immutable_arg)\n",
    "\n",
    "# Testing the function\n",
    "my_list = [1, 2, 3]\n",
    "my_number = 50\n",
    "\n",
    "print(\"Before function call:\")\n",
    "print(\"Mutable argument (list):\", my_list)\n",
    "print(\"Immutable argument (integer):\", my_number)\n",
    "\n",
    "# Calling the function with mutable and immutable arguments\n",
    "modify_arguments(my_list, my_number)\n",
    "\n",
    "print(\"\\nAfter function call:\")\n",
    "print(\"Mutable argument (list):\", my_list)  # The list is modified\n",
    "print(\"Immutable argument (integer):\", my_number)  # The integer remains unchanged"
   ]
  },
  {
   "cell_type": "markdown",
   "id": "0fae3b5a-5bb3-467d-806d-7e0d7ddfea04",
   "metadata": {},
   "source": [
    "Write a program to demonstrate the use of logical operators\n",
    "\n",
    "Logical operators in Python are used to combine conditional statements. The three main logical operators are:\n",
    "\n",
    "and: Returns True if both conditions are True.\n",
    "or: Returns True if at least one of the conditions is True.\n",
    "not: Reverses the logical state of its operand. If the condition is True, it returns False, and vice versa."
   ]
  },
  {
   "cell_type": "code",
   "execution_count": 28,
   "id": "c2ca63be-9686-42eb-8e4d-02c825774a6d",
   "metadata": {},
   "outputs": [
    {
     "name": "stdout",
     "output_type": "stream",
     "text": [
      "Demonstrating 'and' operator:\n",
      "Both conditions are True: a < b and b < c\n",
      "\n",
      "Demonstrating 'or' operator:\n",
      "At least one condition is True: a < b or a > c\n",
      "\n",
      "Demonstrating 'not' operator:\n",
      "The condition a > c is False, so 'not' makes it True\n"
     ]
    }
   ],
   "source": [
    "# Define some variables for demonstration\n",
    "a = 10\n",
    "b = 20\n",
    "c = 30\n",
    "\n",
    "# Demonstrating the 'and' logical operator\n",
    "print(\"Demonstrating 'and' operator:\")\n",
    "if a < b and b < c:\n",
    "    print(\"Both conditions are True: a < b and b < c\")\n",
    "else:\n",
    "    print(\"One or both conditions are False\")\n",
    "\n",
    "# Demonstrating the 'or' logical operator\n",
    "print(\"\\nDemonstrating 'or' operator:\")\n",
    "if a < b or a > c:\n",
    "    print(\"At least one condition is True: a < b or a > c\")\n",
    "else:\n",
    "    print(\"Both conditions are False\")\n",
    "\n",
    "# Demonstrating the 'not' logical operator\n",
    "print(\"\\nDemonstrating 'not' operator:\")\n",
    "if not a > c:\n",
    "    print(\"The condition a > c is False, so 'not' makes it True\")\n",
    "else:\n",
    "    print(\"The condition a > c is True, so 'not' makes it False\")"
   ]
  },
  {
   "cell_type": "markdown",
   "id": "98649c18-d6cf-4c23-a516-b761f620cadd",
   "metadata": {},
   "source": [
    "The and operator requires both conditions to be True for the whole expression to evaluate to True.\n",
    "The or operator requires only one condition to be True for the expression to evaluate to True.\n",
    "The not operator inverts the truth value of a condition. If the condition is True, it becomes False, and if it's False, it becomes True.\n",
    "\n",
    "\n",
    "\n"
   ]
  },
  {
   "cell_type": "markdown",
   "id": "034ae049-b8bf-4b8c-95cb-2e2a47915c40",
   "metadata": {},
   "source": [
    "Write a Python program to convert user input from string to integer, float, and boolean types\n",
    "\n",
    " different data types:int, float, and bool."
   ]
  },
  {
   "cell_type": "code",
   "execution_count": 29,
   "id": "cce36e46-cc8f-41a7-89d9-586760a36fa4",
   "metadata": {},
   "outputs": [
    {
     "name": "stdin",
     "output_type": "stream",
     "text": [
      "Enter a value:  42\n"
     ]
    },
    {
     "name": "stdout",
     "output_type": "stream",
     "text": [
      "The value as an integer: 42\n",
      "The value as a float: 42.0\n",
      "The value as a boolean: False\n"
     ]
    }
   ],
   "source": [
    "# Taking user input as a string\n",
    "user_input = input(\"Enter a value: \")\n",
    "\n",
    "# Converting the string input to an integer\n",
    "try:\n",
    "    int_value = int(user_input)\n",
    "    print(f\"The value as an integer: {int_value}\")\n",
    "except ValueError:\n",
    "    print(\"The input cannot be converted to an integer.\")\n",
    "\n",
    "# Converting the string input to a float\n",
    "try:\n",
    "    float_value = float(user_input)\n",
    "    print(f\"The value as a float: {float_value}\")\n",
    "except ValueError:\n",
    "    print(\"The input cannot be converted to a float.\")\n",
    "\n",
    "# Converting the string input to a boolean\n",
    "if user_input.lower() in ['true', '1', 't', 'y', 'yes']:\n",
    "    bool_value = True\n",
    "else:\n",
    "    bool_value = False\n",
    "\n",
    "print(f\"The value as a boolean: {bool_value}\")"
   ]
  },
  {
   "cell_type": "markdown",
   "id": "d35647f2-1138-4a19-9016-c34800a36b79",
   "metadata": {},
   "source": [
    "Write code to demonstrate type casting with list elements\n",
    "\n",
    "Type casting in Python allows us to convert one data type to another. You can apply type casting on individual elements within a list. In this demonstration, we'll create a list containing different data types (such as strings, integers, and floats), and then we will use type casting to convert these elements into different types."
   ]
  },
  {
   "cell_type": "code",
   "execution_count": 30,
   "id": "538dcbf4-b37d-4dee-8f2c-b686dda407da",
   "metadata": {},
   "outputs": [
    {
     "name": "stdout",
     "output_type": "stream",
     "text": [
      "Original list:\n",
      "['10', '20.5', 30, 40.75, '50']\n",
      "\n",
      "List with all elements converted to integers:\n",
      "[10, 20, 30, 40, 50]\n",
      "\n",
      "List with all elements converted to floats:\n",
      "[10.0, 20.5, 30.0, 40.75, 50.0]\n",
      "\n",
      "List with all elements converted to booleans:\n",
      "[True, True, True, True, True]\n"
     ]
    }
   ],
   "source": [
    "# A list with mixed data types (string, integer, and float)\n",
    "my_list = ['10', '20.5', 30, 40.75, '50']\n",
    "\n",
    "print(\"Original list:\")\n",
    "print(my_list)\n",
    "\n",
    "# Type casting:\n",
    "# Convert each element in the list to a different type\n",
    "\n",
    "# Convert all elements to integers\n",
    "int_list = [int(x) if isinstance(x, (int, float)) or x.isdigit() else int(float(x)) for x in my_list]\n",
    "print(\"\\nList with all elements converted to integers:\")\n",
    "print(int_list)\n",
    "\n",
    "# Convert all elements to floats\n",
    "float_list = [float(x) for x in my_list]\n",
    "print(\"\\nList with all elements converted to floats:\")\n",
    "print(float_list)\n",
    "\n",
    "# Convert all elements to booleans (0, '', and None become False, everything else becomes True)\n",
    "bool_list = [bool(x) for x in my_list]\n",
    "print(\"\\nList with all elements converted to booleans:\")\n",
    "print(bool_list)"
   ]
  },
  {
   "cell_type": "markdown",
   "id": "4a1e5512-6b0e-48ed-a0e2-6be26a4be118",
   "metadata": {},
   "source": [
    "Write a program that checks if a number is positive, negative, or zero\n",
    "\n"
   ]
  },
  {
   "cell_type": "code",
   "execution_count": 31,
   "id": "d38c4958-ca00-4400-a4ce-b11ce2b0eb8d",
   "metadata": {},
   "outputs": [
    {
     "name": "stdin",
     "output_type": "stream",
     "text": [
      "Enter a number:  1\n"
     ]
    },
    {
     "name": "stdout",
     "output_type": "stream",
     "text": [
      "The number is positive.\n"
     ]
    }
   ],
   "source": [
    "# Get input from the user\n",
    "number = float(input(\"Enter a number: \"))\n",
    "\n",
    "# Check if the number is positive, negative, or zero\n",
    "if number > 0:\n",
    "    print(\"The number is positive.\")\n",
    "elif number < 0:\n",
    "    print(\"The number is negative.\")\n",
    "else:\n",
    "    print(\"The number is zero.\")"
   ]
  },
  {
   "cell_type": "code",
   "execution_count": 32,
   "id": "7b64b257-00e0-4034-826b-6ae937a0bbd3",
   "metadata": {},
   "outputs": [
    {
     "name": "stdin",
     "output_type": "stream",
     "text": [
      "Enter a number:  4\n"
     ]
    },
    {
     "name": "stdout",
     "output_type": "stream",
     "text": [
      "The number is positive.\n"
     ]
    }
   ],
   "source": [
    "# Get input from the user\n",
    "number = float(input(\"Enter a number: \"))\n",
    "\n",
    "# Check if the number is positive, negative, or zero\n",
    "if number > 0:\n",
    "    print(\"The number is positive.\")\n",
    "elif number < 0:\n",
    "    print(\"The number is negative.\")\n",
    "else:\n",
    "    print(\"The number is zero.\")"
   ]
  },
  {
   "cell_type": "code",
   "execution_count": 33,
   "id": "fc394dee-19e8-400f-bfa9-9bc09a912e15",
   "metadata": {},
   "outputs": [
    {
     "name": "stdin",
     "output_type": "stream",
     "text": [
      "Enter a number:  -1\n"
     ]
    },
    {
     "name": "stdout",
     "output_type": "stream",
     "text": [
      "The number is negative.\n"
     ]
    }
   ],
   "source": [
    "# Get input from the user\n",
    "number = float(input(\"Enter a number: \"))\n",
    "\n",
    "# Check if the number is positive, negative, or zero\n",
    "if number > 0:\n",
    "    print(\"The number is positive.\")\n",
    "elif number < 0:\n",
    "    print(\"The number is negative.\")\n",
    "else:\n",
    "    print(\"The number is zero.\")"
   ]
  },
  {
   "cell_type": "markdown",
   "id": "2275fe69-1e6a-429c-88b0-02f4e179ee46",
   "metadata": {},
   "source": [
    "Write a for loop to print numbers from 1 to 10"
   ]
  },
  {
   "cell_type": "code",
   "execution_count": 34,
   "id": "2762959f-c998-43e4-8961-42c15b736fe8",
   "metadata": {},
   "outputs": [
    {
     "name": "stdout",
     "output_type": "stream",
     "text": [
      "1\n",
      "2\n",
      "3\n",
      "4\n",
      "5\n",
      "6\n",
      "7\n",
      "8\n",
      "9\n",
      "10\n"
     ]
    }
   ],
   "source": [
    "# Using a for loop to print numbers from 1 to 10\n",
    "for i in range(1, 11):\n",
    "    print(i)"
   ]
  },
  {
   "cell_type": "markdown",
   "id": "43aae382-ae35-4da9-baeb-162098f44ebc",
   "metadata": {},
   "source": [
    "Write a Python program to find the sum of all even numbers between 1 and 50"
   ]
  },
  {
   "cell_type": "code",
   "execution_count": 35,
   "id": "8cfe0a79-17b5-46b0-96c8-6a1f6ec1a4fc",
   "metadata": {},
   "outputs": [
    {
     "name": "stdout",
     "output_type": "stream",
     "text": [
      "The sum of all even numbers between 1 and 50 is: 650\n"
     ]
    }
   ],
   "source": [
    "# Initialize the sum to 0\n",
    "sum_of_evens = 0\n",
    "\n",
    "# Loop through numbers from 1 to 50\n",
    "for num in range(1, 51):\n",
    "    # Check if the number is even\n",
    "    if num % 2 == 0:\n",
    "        sum_of_evens += num  # Add the even number to the sum\n",
    "\n",
    "# Print the sum of even numbers\n",
    "print(\"The sum of all even numbers between 1 and 50 is:\", sum_of_evens)"
   ]
  },
  {
   "cell_type": "markdown",
   "id": "aafc869d-f30b-4ee1-b80b-055b109a99cd",
   "metadata": {},
   "source": [
    " Write a program to reverse a string using a while loop"
   ]
  },
  {
   "cell_type": "code",
   "execution_count": 36,
   "id": "cabfb66e-e749-4eec-a3f7-6ba709731324",
   "metadata": {},
   "outputs": [
    {
     "name": "stdin",
     "output_type": "stream",
     "text": [
      "Enter a string to reverse:  hello\n"
     ]
    },
    {
     "name": "stdout",
     "output_type": "stream",
     "text": [
      "Reversed string: olleh\n"
     ]
    }
   ],
   "source": [
    "# Function to reverse a string using a while loop\n",
    "def reverse_string(s):\n",
    "    reversed_str = \"\"  # Initialize an empty string to store the reversed string\n",
    "    index = len(s) - 1  # Start from the last index of the string\n",
    "\n",
    "    # Use a while loop to reverse the string\n",
    "    while index >= 0:\n",
    "        reversed_str += s[index]  # Add the current character to the reversed string\n",
    "        index -= 1  # Move to the previous character\n",
    "    \n",
    "    return reversed_str\n",
    "\n",
    "# Example usage\n",
    "input_string = input(\"Enter a string to reverse: \")\n",
    "reversed_string = reverse_string(input_string)\n",
    "print(\"Reversed string:\", reversed_string)"
   ]
  },
  {
   "cell_type": "markdown",
   "id": "b78e98d7-ef7a-4dce-8c97-3e5b21835d1d",
   "metadata": {},
   "source": [
    "Write a Python program to calculate the factorial of a number provided by the user using a while loop with example"
   ]
  },
  {
   "cell_type": "code",
   "execution_count": 37,
   "id": "6426cddc-45e3-4204-ac6b-88a0fe44f612",
   "metadata": {},
   "outputs": [
    {
     "name": "stdin",
     "output_type": "stream",
     "text": [
      "Enter a number to calculate its factorial:  5\n"
     ]
    },
    {
     "name": "stdout",
     "output_type": "stream",
     "text": [
      "The factorial of 5 is: 120\n"
     ]
    }
   ],
   "source": [
    "# Function to calculate factorial using a while loop\n",
    "def factorial(n):\n",
    "    result = 1  # Initialize result to 1 (since factorial of 0 is 1)\n",
    "    \n",
    "    # If the number is negative, factorial is not defined\n",
    "    if n < 0:\n",
    "        return \"Factorial is not defined for negative numbers\"\n",
    "    \n",
    "    # Calculate factorial using a while loop\n",
    "    while n > 1:\n",
    "        result *= n  # Multiply result by current value of n\n",
    "        n -= 1  # Decrease n by 1\n",
    "\n",
    "    return result\n",
    "\n",
    "# Example usage\n",
    "number = int(input(\"Enter a number to calculate its factorial: \"))\n",
    "fact_result = factorial(number)\n",
    "print(f\"The factorial of {number} is: {fact_result}\")"
   ]
  },
  {
   "cell_type": "code",
   "execution_count": 38,
   "id": "954d47af-8cc5-4885-9883-f01455582723",
   "metadata": {},
   "outputs": [
    {
     "name": "stdin",
     "output_type": "stream",
     "text": [
      "Enter a number to calculate its factorial:  0\n"
     ]
    },
    {
     "name": "stdout",
     "output_type": "stream",
     "text": [
      "The factorial of 0 is: 1\n"
     ]
    }
   ],
   "source": [
    "# Function to calculate factorial using a while loop\n",
    "def factorial(n):\n",
    "    result = 1  # Initialize result to 1 (since factorial of 0 is 1)\n",
    "    \n",
    "    # If the number is negative, factorial is not defined\n",
    "    if n < 0:\n",
    "        return \"Factorial is not defined for negative numbers\"\n",
    "    \n",
    "    # Calculate factorial using a while loop\n",
    "    while n > 1:\n",
    "        result *= n  # Multiply result by current value of n\n",
    "        n -= 1  # Decrease n by 1\n",
    "\n",
    "    return result\n",
    "\n",
    "# Example usage\n",
    "number = int(input(\"Enter a number to calculate its factorial: \"))\n",
    "fact_result = factorial(number)\n",
    "print(f\"The factorial of {number} is: {fact_result}\")"
   ]
  },
  {
   "cell_type": "code",
   "execution_count": null,
   "id": "128857d8-b809-4c8c-89e3-51177374e4a6",
   "metadata": {},
   "outputs": [],
   "source": []
  }
 ],
 "metadata": {
  "kernelspec": {
   "display_name": "Python 3 (ipykernel)",
   "language": "python",
   "name": "python3"
  },
  "language_info": {
   "codemirror_mode": {
    "name": "ipython",
    "version": 3
   },
   "file_extension": ".py",
   "mimetype": "text/x-python",
   "name": "python",
   "nbconvert_exporter": "python",
   "pygments_lexer": "ipython3",
   "version": "3.12.7"
  }
 },
 "nbformat": 4,
 "nbformat_minor": 5
}
